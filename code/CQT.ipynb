{
 "cells": [
  {
   "cell_type": "code",
   "execution_count": 11,
   "metadata": {},
   "outputs": [],
   "source": [
    "import librosa\n",
    "import numpy as np\n",
    "import os\n",
    "import glob\n",
    "from sklearn.preprocessing import MinMaxScaler\n",
    "max_value = float('-inf')  \n",
    "\n",
    "input_dir = './train'  # 컴파일시 test와 train 디렉토리 두개 다 전처리 해야함\n",
    "output_dir = './CQT_mixed_train'  # 결과를 저장할 디렉토리 경로, test 전처리 진행시 './CQT_test'로 진행\n",
    "\n",
    "os.makedirs(output_dir, exist_ok=True)\n",
    "ogg_files = glob.glob(os.path.join(input_dir, '*.wav'))\n",
    "target_frames = 400"
   ]
  },
  {
   "cell_type": "code",
   "execution_count": null,
   "metadata": {},
   "outputs": [],
   "source": [
    "for file_path in ogg_files:\n",
    "    file_name = os.path.splitext(os.path.basename(file_path))[0]\n",
    "    y, sr = librosa.load(file_path, sr=None)  \n",
    "\n",
    "    # CQT 파라미터 설정\n",
    "    hop_length = int(sr * 0.016)  # 스텝 사이즈: 16ms마다 프레임 이동\n",
    "    n_bins_per_octave = 36       # 옥타브당 빈 개수\n",
    "    n_octaves = 7                # 옥타브 수\n",
    "    n_bins = n_bins_per_octave * n_octaves  # 전체 빈 수\n",
    "    \n",
    "    cqt_db = np.abs(librosa.cqt(y, sr=sr, hop_length=hop_length, n_bins=n_bins, bins_per_octave=n_bins_per_octave))\n",
    "    if max_value < cqt_db.max():\n",
    "        max_value = cqt_db.max()\n",
    "    n_frames = cqt_db.shape[1]\n",
    "    \n",
    "    if n_frames > target_frames: \n",
    "        # 프레임이 많을 경우, 중앙 부분을 자름\n",
    "        start = (n_frames - target_frames) // 2\n",
    "        cqt_db = cqt_db[:, start:start + target_frames]\n",
    "    elif n_frames < target_frames:\n",
    "        # 프레임이 부족할 경우, 프레임을 반복하여 확장함\n",
    "        repeats = target_frames // n_frames\n",
    "        remainder = target_frames % n_frames\n",
    "        cqt_db = np.tile(cqt_db, (1, repeats)) \n",
    "        cqt_db = np.concatenate((cqt_db, cqt_db[:, :remainder]), axis=1)  # 부족한 부분을 채우기 위해 나머지를 추가\n",
    "\n",
    "    \n",
    "\n",
    "\n",
    "    \n",
    "    # 결과 저장 \n",
    "    output_path = os.path.join(output_dir, f'{file_name}.npy')\n",
    "    np.save(output_path, cqt_db)\n",
    "    \n"
   ]
  },
  {
   "cell_type": "code",
   "execution_count": 7,
   "metadata": {},
   "outputs": [
    {
     "data": {
      "text/plain": [
       "38.85052"
      ]
     },
     "execution_count": 7,
     "metadata": {},
     "output_type": "execute_result"
    }
   ],
   "source": [
    "max_value"
   ]
  },
  {
   "cell_type": "markdown",
   "metadata": {},
   "source": [
    "max_value 값은 38.85052 (이건 train 데이터 최댓값)"
   ]
  },
  {
   "cell_type": "markdown",
   "metadata": {},
   "source": []
  },
  {
   "cell_type": "code",
   "execution_count": 13,
   "metadata": {},
   "outputs": [],
   "source": [
    "for file_path in ogg_files:\n",
    "    file_name = os.path.splitext(os.path.basename(file_path))[0]\n",
    "    y, sr = librosa.load(file_path, sr=None) \n",
    "    \n",
    "    # CQT 파라미터 설정\n",
    "    hop_length = int(sr * 0.016)  # 스텝 사이즈: 16ms마다 프레임 이동\n",
    "    n_bins_per_octave = 36       # 옥타브당 빈 개수\n",
    "    n_octaves = 7                # 옥타브 수\n",
    "    n_bins = n_bins_per_octave * n_octaves  # 전체 빈 수\n",
    "    \n",
    "    cqt_db = np.abs(librosa.cqt(y, sr=sr, hop_length=hop_length, n_bins=n_bins, bins_per_octave=n_bins_per_octave))\n",
    "\n",
    "    n_frames = cqt_db.shape[1]\n",
    "    if n_frames > target_frames:\n",
    "        # 프레임이 많을 경우, 중앙 부분을 자릅니다.\n",
    "        start = (n_frames - target_frames) // 2\n",
    "        cqt_db = cqt_db[:, start:start + target_frames]\n",
    "    elif n_frames < target_frames:\n",
    "        # 프레임이 부족할 경우, 프레임을 반복하여 확장합니다.\n",
    "        repeats = target_frames // n_frames\n",
    "        remainder = target_frames % n_frames\n",
    "        cqt_db = np.tile(cqt_db, (1, repeats))  \n",
    "        cqt_db = np.concatenate((cqt_db, cqt_db[:, :remainder]), axis=1)  # 부족한 부분을 채우기 위해 나머지를 추가\n",
    "    \n",
    "\n",
    "\n",
    "    # minmax\n",
    "    min_val = 0\n",
    "    max_val = 38.85052\n",
    "    scaled_cqt = (cqt_db - min_val) / (max_val - min_val)\n",
    "\n",
    "    # 결과 저장\n",
    "    output_path = os.path.join(output_dir, f'{file_name}.npy')\n",
    "    np.save(output_path, scaled_cqt)\n",
    "\n",
    " \n",
    "   \n"
   ]
  },
  {
   "cell_type": "markdown",
   "metadata": {},
   "source": []
  }
 ],
 "metadata": {
  "kernelspec": {
   "display_name": "TSSDNET",
   "language": "python",
   "name": "python3"
  },
  "language_info": {
   "codemirror_mode": {
    "name": "ipython",
    "version": 3
   },
   "file_extension": ".py",
   "mimetype": "text/x-python",
   "name": "python",
   "nbconvert_exporter": "python",
   "pygments_lexer": "ipython3",
   "version": "3.12.2"
  }
 },
 "nbformat": 4,
 "nbformat_minor": 2
}
