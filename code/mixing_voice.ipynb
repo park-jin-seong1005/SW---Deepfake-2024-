{
 "cells": [
  {
   "cell_type": "code",
   "execution_count": null,
   "metadata": {},
   "outputs": [],
   "source": [
    "# train.csv 파일 불러온 후 real은 real끼리, fake는 fake끼리 묶음\n",
    "# real인 오디오와 fake인 오디오를 각각 하나로 합침\n",
    "# train.csv 의 label을 각각 real, fake 열로 만들어 1과 0으로 나타냄\n",
    "# real과 fake가 합쳐진 오디오는 real도 1, fake도 1로 설정"
   ]
  },
  {
   "cell_type": "code",
   "execution_count": 18,
   "metadata": {},
   "outputs": [
    {
     "name": "stderr",
     "output_type": "stream",
     "text": [
      "55438it [00:01, 30303.83it/s]\n"
     ]
    }
   ],
   "source": [
    "import librosa\n",
    "import soundfile as sf\n",
    "import numpy as np\n",
    "import pandas as pd\n",
    "from tqdm import tqdm\n",
    "\n",
    "df = pd.read_csv('./train.csv')\n",
    "reals_id = []\n",
    "reals_path = []\n",
    "reals_label = []\n",
    "\n",
    "fakes_id = []\n",
    "fakes_path = []\n",
    "fakes_label = []\n",
    "\n",
    "for _, row in tqdm(df.iterrows()):\n",
    "    if row['label'] == 'real':\n",
    "        reals_id.append(row['id'])\n",
    "        reals_path.append(row['path'])\n",
    "        reals_label.append(row['label'])\n",
    "    else:\n",
    "        fakes_id.append(row['id'])\n",
    "        fakes_path.append(row['path'])\n",
    "        fakes_label.append(row['label'])\n",
    "\n",
    "reals = pd.DataFrame({'id': reals_id, 'path': reals_path, 'label': reals_label})\n",
    "fakes = pd.DataFrame({'id': fakes_id, 'path': fakes_path, 'label': fakes_label})\n",
    "reals.to_csv('train_reals.csv', index=False)\n",
    "fakes.to_csv('train_fakes.csv', index=False)"
   ]
  },
  {
   "cell_type": "code",
   "execution_count": 28,
   "metadata": {},
   "outputs": [
    {
     "name": "stderr",
     "output_type": "stream",
     "text": [
      "100%|██████████| 27620/27620 [12:44<00:00, 36.14it/s]\n"
     ]
    }
   ],
   "source": [
    "#ㅡㅡㅡㅡㅡㅡㅡㅡㅡㅡㅡㅡㅡㅡㅡㅡㅡㅡreal 과 fake 합치는 코드ㅡㅡㅡㅡㅡㅡㅡㅡㅡㅡㅡㅡㅡㅡㅡㅡㅡ#\n",
    "reals = pd.read_csv('./train_reals.csv')\n",
    "fakes = pd.read_csv('./train_fakes.csv')\n",
    "\n",
    "for i in tqdm(range(len(reals))):\n",
    "    # 오디오 파일 경로\n",
    "    audio_path1 = reals['path'].iloc[i]\n",
    "    audio_path2 = fakes['path'].iloc[i]\n",
    "\n",
    "    y1, sr1 = librosa.load(audio_path1, sr=None)\n",
    "    y2, sr2 = librosa.load(audio_path2, sr=None)\n",
    "\n",
    "    # sr이 같아야함\n",
    "    if sr1 != sr2:\n",
    "        raise ValueError('Sample rates of the two audio files are different.')\n",
    "\n",
    "    # 짧은 쪽의 오디오길이로 맞춤\n",
    "    min_length = min(len(y1), len(y2))\n",
    "    y1 = y1[:min_length]\n",
    "    y2 = y2[:min_length]\n",
    "\n",
    "    y_combined = y1 + y2\n",
    "    output_path = f'./mixed/mixed_{i}.ogg' # (1)\n",
    "    sf.write(output_path, y_combined, sr1)\n",
    "\n",
    "#ㅡㅡㅡㅡㅡㅡㅡㅡㅡㅡㅡㅡㅡㅡㅡㅡㅡㅡreal 과 fake 합치는 코드ㅡㅡㅡㅡㅡㅡㅡㅡㅡㅡㅡㅡㅡㅡㅡㅡㅡ#"
   ]
  },
  {
   "cell_type": "code",
   "execution_count": 3,
   "metadata": {},
   "outputs": [],
   "source": [
    "import os\n",
    "\n",
    "directory = './mixed/' # (2)\n",
    "\n",
    "id = []\n",
    "path = []\n",
    "\n",
    "# 디렉토리 내의 모든 파일들에 대해 반복\n",
    "for filename in os.listdir(directory):\n",
    "    if filename.endswith(\".ogg\"):\n",
    "        name = filename.split('.')\n",
    "        id.append(name[0])\n",
    "        path.append(f'./train/{filename}') \n",
    "\n",
    "mix = pd.DataFrame({'id': id, 'path': path, 'real': 1, 'fake': 1})"
   ]
  },
  {
   "cell_type": "code",
   "execution_count": 33,
   "metadata": {},
   "outputs": [],
   "source": [
    "\n",
    "df = pd.read_csv('./train.csv')\n",
    "\n",
    "#예) label이 real일 경우, real열에 1, fake열에 0 넣는 부분\n",
    "df['real'] = df['label'].apply(lambda x: 1 if x == 'real' else 0)\n",
    "df['fake'] = df['label'].apply(lambda x: 1 if x == 'fake' else 0)\n",
    "\n",
    "# 기존의 label 열 삭제\n",
    "df.drop(columns=['label'], inplace=True)\n",
    "\n",
    "conc = pd.concat([df, mix])\n",
    "conc.to_csv('train_mixed.csv', index=False)"
   ]
  }
 ],
 "metadata": {
  "kernelspec": {
   "display_name": "kng",
   "language": "python",
   "name": "python3"
  },
  "language_info": {
   "codemirror_mode": {
    "name": "ipython",
    "version": 3
   },
   "file_extension": ".py",
   "mimetype": "text/x-python",
   "name": "python",
   "nbconvert_exporter": "python",
   "pygments_lexer": "ipython3",
   "version": "3.11.7"
  }
 },
 "nbformat": 4,
 "nbformat_minor": 2
}
