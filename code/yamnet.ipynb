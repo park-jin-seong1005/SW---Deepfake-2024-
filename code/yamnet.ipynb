{
 "cells": [
  {
   "cell_type": "code",
   "execution_count": null,
   "metadata": {},
   "outputs": [],
   "source": [
    "import tensorflow as tf\n",
    "import numpy as np\n",
    "import soundfile as sf\n",
    "import resampy\n",
    "import tensorflow_hub as hub\n",
    "import pandas as pd\n",
    "from pathlib import Path\n",
    "\n",
    "yamnet_model = hub.load('https://tfhub.dev/google/yamnet/1')\n",
    "\n",
    "labels_url = 'https://raw.githubusercontent.com/tensorflow/models/master/research/audioset/yamnet/yamnet_class_map.csv'\n",
    "labels_path = tf.keras.utils.get_file('yamnet_class_map.csv', labels_url)\n",
    "\n",
    "class_names = pd.read_csv(labels_path)['display_name'].to_list()\n",
    "\n",
    "voice_class_indices = [i for i, name in enumerate(class_names) if 'Speech' == name]\n",
    "\n",
    "def detect_voice_in_wav(file_path):\n",
    "    audio_data, sample_rate = sf.read(file_path)\n",
    "\n",
    "    if sample_rate != 16000:\n",
    "        audio_data = resampy.resample(audio_data, sample_rate, 16000)\n",
    "\n",
    "    waveform = audio_data.astype(np.float32)\n",
    "    waveform_tensor = tf.convert_to_tensor(waveform)\n",
    "\n",
    "    yamnet_outputs = yamnet_model(waveform_tensor)\n",
    "    scores = yamnet_outputs[0].numpy()\n",
    "\n",
    "    voice_scores = np.mean(scores[:, voice_class_indices], axis=-1)\n",
    "\n",
    "    return np.max(voice_scores)\n",
    "\n",
    "if __name__ == \"__main__\":\n",
    "    wav_dir = Path(\"./test_denoised\")  # (1)\n",
    "    output_csv = \"./voice_denoised_yamnet.csv\"  # (2)\n",
    "\n",
    "    results = []\n",
    "    for wav_file in wav_dir.glob(\"*.wav\"):\n",
    "        max_voice_score = detect_voice_in_wav(wav_file)\n",
    "        file_id = wav_file.stem\n",
    "        results.append({\"file_id\": file_id, \"max_voice_score\": max_voice_score})\n",
    "\n",
    "    df = pd.DataFrame(results)\n",
    "    df.to_csv(output_csv, index=False)\n",
    "\n",
    "    print(f\"Results saved to: {output_csv}\")"
   ]
  }
 ],
 "metadata": {
  "kernelspec": {
   "display_name": "base",
   "language": "python",
   "name": "python3"
  },
  "language_info": {
   "codemirror_mode": {
    "name": "ipython",
    "version": 3
   },
   "file_extension": ".py",
   "mimetype": "text/x-python",
   "name": "python",
   "nbconvert_exporter": "python",
   "pygments_lexer": "ipython3",
   "version": "3.12.4"
  }
 },
 "nbformat": 4,
 "nbformat_minor": 2
}
